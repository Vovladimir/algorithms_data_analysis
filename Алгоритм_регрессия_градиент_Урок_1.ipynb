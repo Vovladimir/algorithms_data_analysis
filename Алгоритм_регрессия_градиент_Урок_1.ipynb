{
  "nbformat": 4,
  "nbformat_minor": 0,
  "metadata": {
    "colab": {
      "name": "Алгоритм_регрессия_градиент_Урок_1.ipynb",
      "provenance": [],
      "collapsed_sections": [],
      "authorship_tag": "ABX9TyMJ002vlj02zqf2E9EOv2dD",
      "include_colab_link": true
    },
    "kernelspec": {
      "name": "python3",
      "display_name": "Python 3"
    },
    "language_info": {
      "name": "python"
    }
  },
  "cells": [
    {
      "cell_type": "markdown",
      "metadata": {
        "id": "view-in-github",
        "colab_type": "text"
      },
      "source": [
        "<a href=\"https://colab.research.google.com/github/Vovladimir/algorithms_data_analysis/blob/lesson1/%D0%90%D0%BB%D0%B3%D0%BE%D1%80%D0%B8%D1%82%D0%BC_%D1%80%D0%B5%D0%B3%D1%80%D0%B5%D1%81%D1%81%D0%B8%D1%8F_%D0%B3%D1%80%D0%B0%D0%B4%D0%B8%D0%B5%D0%BD%D1%82_%D0%A3%D1%80%D0%BE%D0%BA_1.ipynb\" target=\"_parent\"><img src=\"https://colab.research.google.com/assets/colab-badge.svg\" alt=\"Open In Colab\"/></a>"
      ]
    },
    {
      "cell_type": "code",
      "metadata": {
        "id": "ak8b3KV45kVW"
      },
      "source": [
        "import numpy as np\n",
        "import matplotlib.pyplot as plt\n",
        "plt.rcParams.update({'font.size': 14})"
      ],
      "execution_count": 101,
      "outputs": []
    },
    {
      "cell_type": "code",
      "metadata": {
        "id": "i77tZbAd5plB",
        "colab": {
          "base_uri": "https://localhost:8080/"
        },
        "outputId": "8877fb34-98a3-44db-adf5-58aaa44475e8"
      },
      "source": [
        "X = np.array([[1, 1, 1, 1, 1, 1, 1, 1, 1, 1],   # для умножения на intercept\n",
        "              [1, 1, 2, 1, 3, 0, 5, 10, 1, 2]]) # стаж\n",
        "X.shape"
      ],
      "execution_count": 102,
      "outputs": [
        {
          "output_type": "execute_result",
          "data": {
            "text/plain": [
              "(2, 10)"
            ]
          },
          "metadata": {
            "tags": []
          },
          "execution_count": 102
        }
      ]
    },
    {
      "cell_type": "code",
      "metadata": {
        "id": "VsNrKi1Q6Wmh"
      },
      "source": [
        "# средний балл ЕГЭ (целевая переменная)\n",
        "y = [45, 55, 50, 59, 65, 35, 75, 80, 50, 60]"
      ],
      "execution_count": 103,
      "outputs": []
    },
    {
      "cell_type": "code",
      "metadata": {
        "colab": {
          "base_uri": "https://localhost:8080/"
        },
        "id": "mnyZzkaDBegD",
        "outputId": "1bdecc3f-f7c6-46bd-dac1-dc1926a3b6c5"
      },
      "source": [
        "w = np.linalg.inv(X @ X.T) @ X @ y\n",
        "w"
      ],
      "execution_count": 104,
      "outputs": [
        {
          "output_type": "execute_result",
          "data": {
            "text/plain": [
              "array([47.23214286,  3.91071429])"
            ]
          },
          "metadata": {
            "tags": []
          },
          "execution_count": 104
        }
      ]
    },
    {
      "cell_type": "code",
      "metadata": {
        "id": "JTSC2cFnCd8T"
      },
      "source": [
        "def calc_mse(y, y_pred):\n",
        "    err = np.mean((y - y_pred)**2)\n",
        "    return err\n",
        "\n",
        "def calc_mae(y, y_pred):\n",
        "    err = np.mean(np.abs(y - y_pred))\n",
        "    return err"
      ],
      "execution_count": 105,
      "outputs": []
    },
    {
      "cell_type": "markdown",
      "metadata": {
        "id": "Kk4UYxGBkrV1"
      },
      "source": [
        "**Домашнее задание**\n"
      ]
    },
    {
      "cell_type": "markdown",
      "metadata": {
        "id": "04JHQv5wk0Eb"
      },
      "source": [
        "1. Подберите скорость обучения (alpha) и количество итераций:\n"
      ]
    },
    {
      "cell_type": "code",
      "metadata": {
        "colab": {
          "base_uri": "https://localhost:8080/"
        },
        "id": "IDB22MQKMYaJ",
        "outputId": "e0c63292-b8cd-4c61-ba8d-a3a3d23d5f21"
      },
      "source": [
        "n = X.shape[1]\n",
        "# aplha = 1\n",
        "# alpha = 0.1\n",
        "# alpha = 0.01\n",
        "alpha = 0.001\n",
        "w = np.array([1, 0.5])\n",
        "\n",
        "for i in range(10000):\n",
        "    y_pred = np.dot(w, X)\n",
        "    err = calc_mse(y, y_pred)\n",
        "    for j in range(w.shape[0]):\n",
        "        w[j] -= alpha * (1/n * 2 * np.sum(X[j] * (y_pred - y)))\n",
        "    if i % 1000 == 0:\n",
        "        print(i, w, err)"
      ],
      "execution_count": 106,
      "outputs": [
        {
          "output_type": "stream",
          "text": [
            "0 [1.1102 0.84  ] 3173.15\n",
            "1000 [31.66648131  6.78503276] 176.46806566379882\n",
            "2000 [41.73215361  4.92632937] 62.2342399245102\n",
            "3000 [45.28877016  4.26957292] 47.97214782992787\n",
            "4000 [46.54546925  4.03751382] 46.19152576288303\n",
            "5000 [46.98951279  3.95551778] 45.96921511416331\n",
            "6000 [47.14641166  3.92654521] 45.94145963171208\n",
            "7000 [47.2018505  3.916308 ] 45.93799435998288\n",
            "8000 [47.22143932  3.91269078] 45.937561720839334\n",
            "9000 [47.22836086  3.91141266] 45.93750770584623\n"
          ],
          "name": "stdout"
        }
      ]
    },
    {
      "cell_type": "markdown",
      "metadata": {
        "id": "HnOrLxoxl27S"
      },
      "source": [
        "При разных альфа алгоритм к достигает нужного значения после 5000 итераций.\n",
        "\n",
        "\n"
      ]
    },
    {
      "cell_type": "markdown",
      "metadata": {
        "id": "-cnP9GhVmY_8"
      },
      "source": [
        "*2. В этом коде мы избавляемся от итераций по весам, но тут есть ошибка, исправьте ее:\n"
      ]
    },
    {
      "cell_type": "code",
      "metadata": {
        "colab": {
          "base_uri": "https://localhost:8080/"
        },
        "id": "WZZzDCQLY4pA",
        "outputId": "acb09937-41c7-4764-9690-bcf7d5dd7982"
      },
      "source": [
        "w = np.array([1, 0.5])\n",
        "\n",
        "for i in range(10000):\n",
        "    y_pred = np.dot(w, X)\n",
        "    err = calc_mse(y, y_pred)\n",
        "    '''for j in range(w.shape[0]):\n",
        "        w[j] -= alpha * (1/n * 2 * np.sum(X[j] * (y_pred - y)))'''\n",
        "    # w -= (alpha * (1/n * 2 * np.sum(X * (y_pred - y)))) - неверный вариант\n",
        "    # w -= (alpha * (1/n * 2 * np.dot(X, np.dot(w, X) - y))) - вариант с функцией dot\n",
        "    w -= alpha * (1 / n * 2 * (X @ (w @ X - y)))\n",
        "    if i % 1000 == 0:\n",
        "        print(i, w, err)"
      ],
      "execution_count": 107,
      "outputs": [
        {
          "output_type": "stream",
          "text": [
            "0 [1.1102 0.84  ] 3173.15\n",
            "1000 [31.66648131  6.78503276] 176.46806566379882\n",
            "2000 [41.73215361  4.92632937] 62.2342399245102\n",
            "3000 [45.28877016  4.26957292] 47.97214782992787\n",
            "4000 [46.54546925  4.03751382] 46.19152576288303\n",
            "5000 [46.98951279  3.95551778] 45.96921511416331\n",
            "6000 [47.14641166  3.92654521] 45.94145963171208\n",
            "7000 [47.2018505  3.916308 ] 45.93799435998288\n",
            "8000 [47.22143932  3.91269078] 45.937561720839334\n",
            "9000 [47.22836086  3.91141266] 45.93750770584623\n"
          ],
          "name": "stdout"
        }
      ]
    },
    {
      "cell_type": "markdown",
      "metadata": {
        "id": "_lgV4vV6r3wV"
      },
      "source": [
        "*3. Вместо того, чтобы задавать количество итераций, задайте условие остановки алгоритма - когда ошибка за итерацию начинает изменяться ниже определенного порога"
      ]
    },
    {
      "cell_type": "code",
      "metadata": {
        "colab": {
          "base_uri": "https://localhost:8080/"
        },
        "id": "60QXv-UZr4vo",
        "outputId": "e8af365a-7c1d-417b-8f28-bda42e35195c"
      },
      "source": [
        "w = np.array([1.0, 1.0])\n",
        "diff = 1\n",
        "while diff > 1e-6:\n",
        "  y_pred = w @ X\n",
        "  err1 = calc_mse(y, y_pred)\n",
        "  w -= alpha * (1/n * 2 * (X @ (w @ X - y)))\n",
        "  y_pred = w @ X\n",
        "  err2 = calc_mse(y, y_pred)   \n",
        "  diff = err1 - err2\n",
        "print(f'Итоговые коэффициенты = {w}, mse = {err2}')"
      ],
      "execution_count": 112,
      "outputs": [
        {
          "output_type": "stream",
          "text": [
            "Итоговые коэффициенты = [47.20225915  3.91623254], mse = 45.937980111752324\n"
          ],
          "name": "stdout"
        }
      ]
    }
  ]
}