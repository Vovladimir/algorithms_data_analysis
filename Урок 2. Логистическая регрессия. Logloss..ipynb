{
 "cells": [
  {
   "cell_type": "code",
   "execution_count": 4,
   "metadata": {},
   "outputs": [],
   "source": [
    "import numpy as np\n",
    "import matplotlib.pyplot as plt\n",
    "import seaborn as sns\n",
    "sns.set(style=\"whitegrid\")\n",
    "sns.set_context(\"paper\", font_scale=2) "
   ]
  },
  {
   "cell_type": "code",
   "execution_count": 5,
   "metadata": {},
   "outputs": [],
   "source": [
    "%matplotlib inline\n",
    "plt.style.use('seaborn-ticks')\n",
    "plt.rcParams.update({'font.size': 14})"
   ]
  },
  {
   "cell_type": "code",
   "execution_count": 6,
   "metadata": {},
   "outputs": [],
   "source": [
    "def sigmoid(z):\n",
    "    res = 1 / (1 + np.exp(-z))\n",
    "    return res"
   ]
  },
  {
   "cell_type": "code",
   "execution_count": 7,
   "metadata": {},
   "outputs": [],
   "source": [
    "def calc_logloss(y, y_pred):\n",
    "    err = np.mean(- y * np.log(y_pred) - (1.0 - y) * np.log(1.0 - y_pred))\n",
    "    return err"
   ]
  },
  {
   "cell_type": "markdown",
   "metadata": {},
   "source": [
    "### **Задание 1. *Измените функцию calc_logloss так, чтобы нули по возможности не попадали в np.log (как вариант - np.clip).**"
   ]
  },
  {
   "cell_type": "code",
   "execution_count": 8,
   "metadata": {},
   "outputs": [],
   "source": [
    "#Вариант из вебинара\n",
    "def calc_logloss2(y, y_pred):\n",
    "    y_pred = np.clip(y_pred, 0.00001, 0.99999)\n",
    "    err = np.mean(- y * np.log(y_pred) - (1.0 - y) * np.log(1.0 - y_pred))\n",
    "    return err"
   ]
  },
  {
   "cell_type": "code",
   "execution_count": 9,
   "metadata": {},
   "outputs": [
    {
     "data": {
      "text/plain": [
       "11.512925464970229"
      ]
     },
     "execution_count": 9,
     "metadata": {},
     "output_type": "execute_result"
    }
   ],
   "source": [
    "y_true = 1\n",
    "y_pred = 0\n",
    "calc_logloss2(y_true, y_pred)"
   ]
  },
  {
   "cell_type": "markdown",
   "metadata": {},
   "source": [
    "### Задание 2. Подберите аргументы функции eval_LR_model для логистической регрессии таким образом, чтобы log loss был минимальным."
   ]
  },
  {
   "cell_type": "code",
   "execution_count": 10,
   "metadata": {},
   "outputs": [
    {
     "data": {
      "text/plain": [
       "array([[1.00e+00, 1.00e+00, 5.00e+02, 1.00e+00],\n",
       "       [1.00e+00, 1.00e+00, 7.00e+02, 1.00e+00],\n",
       "       [1.00e+00, 2.00e+00, 7.50e+02, 2.00e+00],\n",
       "       [1.00e+00, 1.00e+00, 6.00e+02, 1.00e+00],\n",
       "       [1.00e+00, 3.00e+00, 1.45e+03, 2.00e+00],\n",
       "       [1.00e+00, 0.00e+00, 8.00e+02, 1.00e+00],\n",
       "       [1.00e+00, 5.00e+00, 1.50e+03, 3.00e+00],\n",
       "       [1.00e+00, 1.00e+01, 2.00e+03, 3.00e+00],\n",
       "       [1.00e+00, 1.00e+00, 4.50e+02, 1.00e+00],\n",
       "       [1.00e+00, 2.00e+00, 1.00e+03, 2.00e+00]])"
      ]
     },
     "execution_count": 10,
     "metadata": {},
     "output_type": "execute_result"
    }
   ],
   "source": [
    "X = np.array([[1, 1, 1, 1, 1, 1, 1, 1, 1, 1],\n",
    "              [1, 1, 2, 1, 3, 0, 5, 10, 1, 2],  # стаж репетитора\n",
    "              [500, 700, 750, 600, 1450,        # средняя стоимость занятия\n",
    "               800, 1500, 2000, 450, 1000],\n",
    "              [1, 1, 2, 1, 2, 1, 3, 3, 1, 2]],  # квалификация репетитора\n",
    "              dtype = np.float64).T \n",
    "\n",
    "y = np.array([0, 0, 1, 0, 1, 0, 1, 0, 1, 1]) # подходит или нет репетитор\n",
    "X"
   ]
  },
  {
   "cell_type": "code",
   "execution_count": 11,
   "metadata": {},
   "outputs": [
    {
     "data": {
      "text/plain": [
       "array([-0.97958969, -0.56713087, -0.46401617, -0.77336028,  0.97958969,\n",
       "       -0.36090146,  1.08270439,  2.11385144, -1.08270439,  0.05155735])"
      ]
     },
     "execution_count": 11,
     "metadata": {},
     "output_type": "execute_result"
    }
   ],
   "source": [
    "def standard_scaler(x):\n",
    "    res = (x - x.mean()) / x.std()\n",
    "    return res\n",
    "\n",
    "X_st = X.copy()\n",
    "X_st[:, 2] = standard_scaler(X[:, 2])\n",
    "X_st[:, 2]"
   ]
  },
  {
   "cell_type": "code",
   "execution_count": 12,
   "metadata": {},
   "outputs": [
    {
     "name": "stdout",
     "output_type": "stream",
     "text": [
      "Итоговые коэффициенты = [-228.00918407  -16.03932456  -67.59062895  174.38533755], mse = 0.006239361834215295, количество итераций = 52059, 9.999995137684181e-08\n"
     ]
    }
   ],
   "source": [
    "np.random.seed(42)\n",
    "w = np.random.randn(X_st.shape[1])\n",
    "n = X.shape[0]\n",
    "alpha = 18\n",
    "diff = 1\n",
    "count = 0\n",
    "while diff > 1e-7:\n",
    "    z = np.dot(X_st, w)\n",
    "    y_pred = sigmoid(z)  \n",
    "    err1 = calc_logloss2(y, y_pred)\n",
    "    w -= alpha * (1/n * np.dot(X_st.T, (y_pred - y)))\n",
    "    z = np.dot(X_st, w)\n",
    "    y_pred = sigmoid(z)\n",
    "    err2 = calc_logloss2(y, y_pred)   \n",
    "    diff = abs(err1 - err2)\n",
    "    count += 1\n",
    "  # alpha = alpha / count\n",
    "print(f'Итоговые коэффициенты = {w}, mse = {err2}, количество итераций = {count}, {diff}')"
   ]
  },
  {
   "cell_type": "code",
   "execution_count": 13,
   "metadata": {},
   "outputs": [],
   "source": [
    "#при альфа = 0.001 mse = 0.2838526592243291, количество итераций = 600462\n",
    "#при альфа = 0.01 mse = 0.1457 достиг за 547339 итераций\n",
    "#при альфа = 0.1 mse = 0.0810808668854147, количество итераций = 284635\n",
    "#при альфа = 0.2 mse = 0.06359735902033659, количество итераций = 269196\n",
    "#при альфа = 0.5 mse = 0.04024848375942085, количество итераций = 257825\n",
    "#при альфа = 1 mse = 0.027783377826263455, количество итераций = 216856\n",
    "#при альфа = 10 mse = 0.008411540443540758, количество итераций = 78507\n",
    "#при альфа = 11 mse = 0.008012913073426099, количество итераций = 73919\n",
    "#при альфа = 18 mse = 0.006239361834215295, количество итераций = 52059\n",
    "#при альфа = 19 mse = 5.756467732512389, количество итераций = 2\n",
    "#При альфа = 20 mse = 5.756467732512389, количество итераций = 2\n",
    "\n"
   ]
  },
  {
   "cell_type": "code",
   "execution_count": 14,
   "metadata": {},
   "outputs": [],
   "source": [
    "def eval_LR_model(X, y, iterations, alpha=1e-4):\n",
    "    np.random.seed(42)\n",
    "    w = np.random.randn(X.shape[1])\n",
    "    n = X.shape[0]\n",
    "    for i in range(1, iterations + 1):\n",
    "        z = np.dot(X, w)\n",
    "        y_pred = sigmoid(z)\n",
    "        err = calc_logloss2(y, y_pred)\n",
    "        w -= alpha * (1/n * np.dot(X.T, (y_pred - y)))\n",
    "#         if i % (iterations / 10000) == 0:\n",
    "#             print(i, w, err)\n",
    "    return w, err"
   ]
  },
  {
   "cell_type": "code",
   "execution_count": 15,
   "metadata": {},
   "outputs": [],
   "source": [
    "w, err = eval_LR_model(X_st, y, iterations=52059, alpha=18)"
   ]
  },
  {
   "cell_type": "code",
   "execution_count": 16,
   "metadata": {},
   "outputs": [
    {
     "name": "stdout",
     "output_type": "stream",
     "text": [
      "[-228.00918407  -16.03932456  -67.59062895  174.38533755] 0.0062394618341666715\n"
     ]
    }
   ],
   "source": [
    "print(w, err)"
   ]
  },
  {
   "cell_type": "markdown",
   "metadata": {},
   "source": [
    "### Задание 3. Создайте функцию calc_pred_proba, возвращающую предсказанную вероятность класса 1 (на вход подаются значения признаков Х и веса, которые уже посчитаны функцией eval_LR_model, на выходе - массив y_pred_proba)."
   ]
  },
  {
   "cell_type": "code",
   "execution_count": 17,
   "metadata": {},
   "outputs": [],
   "source": [
    "def calc_pred_proba(X, w):\n",
    "    return 1 / (1 + np.exp(-np.dot(X, w)))"
   ]
  },
  {
   "cell_type": "code",
   "execution_count": 18,
   "metadata": {},
   "outputs": [
    {
     "name": "stdout",
     "output_type": "stream",
     "text": [
      "[3.07066558e-02 2.47379302e-14 1.00000000e+00 2.79943451e-08\n",
      " 9.98394053e-01 2.02044274e-13 1.00000000e+00 2.96559804e-04\n",
      " 9.71181612e-01 1.00000000e+00]\n"
     ]
    }
   ],
   "source": [
    "proba = calc_pred_proba(X_st, w)\n",
    "print(proba)"
   ]
  },
  {
   "cell_type": "code",
   "execution_count": 19,
   "metadata": {},
   "outputs": [
    {
     "data": {
      "text/plain": [
       "array([3.07066558e-02, 2.47379302e-14, 1.00000000e+00, 2.79943451e-08,\n",
       "       9.98394053e-01, 2.02044274e-13, 1.00000000e+00, 2.96559804e-04,\n",
       "       9.71181612e-01, 1.00000000e+00])"
      ]
     },
     "execution_count": 19,
     "metadata": {},
     "output_type": "execute_result"
    }
   ],
   "source": [
    "sigmoid(np.dot(X_st, w))"
   ]
  },
  {
   "cell_type": "markdown",
   "metadata": {},
   "source": [
    "### Задание 4. Создайте функцию calc_pred, возвращающую предсказанный класс (на вход подаются значения признаков Х и веса, которые уже посчитаны функцией eval_LR_model, на выходе - массив y_pred).\n"
   ]
  },
  {
   "cell_type": "code",
   "execution_count": 20,
   "metadata": {},
   "outputs": [],
   "source": [
    "def calc_pred(X, w):\n",
    "    \n",
    "    y_predicted = []  \n",
    "    \n",
    "    A = calc_pred_proba(X, w)\n",
    "    \n",
    "#     За порог отнесения к тому или иному классу примем вероятность 0.5\n",
    "    for i in range(len(A)):\n",
    "        if (A[i] > 0.5): \n",
    "            y_predicted.append(1)\n",
    "        elif (A[i] <= 0.5):\n",
    "            y_predicted.append(0)\n",
    "    \n",
    "    return y_predicted"
   ]
  },
  {
   "cell_type": "code",
   "execution_count": 21,
   "metadata": {},
   "outputs": [
    {
     "data": {
      "text/plain": [
       "[0, 0, 1, 0, 1, 0, 1, 0, 1, 1]"
      ]
     },
     "execution_count": 21,
     "metadata": {},
     "output_type": "execute_result"
    }
   ],
   "source": [
    "y_pred = calc_pred(X_st, w)\n",
    "y_pred"
   ]
  },
  {
   "cell_type": "code",
   "execution_count": 22,
   "metadata": {},
   "outputs": [
    {
     "data": {
      "text/plain": [
       "array([0, 0, 1, 0, 1, 0, 1, 0, 1, 1])"
      ]
     },
     "execution_count": 22,
     "metadata": {},
     "output_type": "execute_result"
    }
   ],
   "source": [
    "y"
   ]
  },
  {
   "cell_type": "markdown",
   "metadata": {},
   "source": [
    "### Задание 5. Посчитайте accuracy, матрицу ошибок, precision и recall, а также F1-score."
   ]
  },
  {
   "cell_type": "code",
   "execution_count": 23,
   "metadata": {},
   "outputs": [],
   "source": [
    "def calc_matrix_error(y, y_pred):\n",
    "    \n",
    "    matrix_error = np.array([[0,0],[0,0]])\n",
    "    \n",
    "    for i in range(len(y)):\n",
    "        if y[i] == 1:\n",
    "            if y[i] == y_pred[i]:\n",
    "                matrix_error[0][0] += 1 # true positive\n",
    "            else:\n",
    "                matrix_error[1][0] += 1 # false negative\n",
    "        if y[i] == 0:\n",
    "            if y[i] == y_pred[i]:\n",
    "                matrix_error[1][1] += 1 # true negative\n",
    "            else:\n",
    "                matrix_error[0][1] += 1 #false positive\n",
    "\n",
    "    return matrix_error\n",
    "                "
   ]
  },
  {
   "cell_type": "code",
   "execution_count": 24,
   "metadata": {},
   "outputs": [
    {
     "data": {
      "text/plain": [
       "array([[5, 0],\n",
       "       [0, 5]])"
      ]
     },
     "execution_count": 24,
     "metadata": {},
     "output_type": "execute_result"
    }
   ],
   "source": [
    "ma = calc_matrix_error(y, y_pred)\n",
    "ma"
   ]
  },
  {
   "cell_type": "code",
   "execution_count": 25,
   "metadata": {},
   "outputs": [],
   "source": [
    "def calc_accuracy(matrix_error):\n",
    "    return (matrix_error[0][0] + matrix_error[1][1]) / np.sum(matrix_error)"
   ]
  },
  {
   "cell_type": "code",
   "execution_count": 26,
   "metadata": {},
   "outputs": [
    {
     "data": {
      "text/plain": [
       "1.0"
      ]
     },
     "execution_count": 26,
     "metadata": {},
     "output_type": "execute_result"
    }
   ],
   "source": [
    "acc = calc_accuracy(ma)\n",
    "acc"
   ]
  },
  {
   "cell_type": "code",
   "execution_count": 27,
   "metadata": {},
   "outputs": [],
   "source": [
    "def calc_precision(matrix_error):\n",
    "    return matrix_error[0][0] / (matrix_error[0][0] + matrix_error[0][1])"
   ]
  },
  {
   "cell_type": "code",
   "execution_count": 28,
   "metadata": {},
   "outputs": [
    {
     "data": {
      "text/plain": [
       "1.0"
      ]
     },
     "execution_count": 28,
     "metadata": {},
     "output_type": "execute_result"
    }
   ],
   "source": [
    "prec = calc_precision(ma)\n",
    "prec"
   ]
  },
  {
   "cell_type": "code",
   "execution_count": 29,
   "metadata": {},
   "outputs": [],
   "source": [
    "def calc_recall(matrix_error):\n",
    "    return matrix_error[0][0] / (matrix_error[0][0] + matrix_error[1][0])"
   ]
  },
  {
   "cell_type": "code",
   "execution_count": 30,
   "metadata": {},
   "outputs": [
    {
     "data": {
      "text/plain": [
       "1.0"
      ]
     },
     "execution_count": 30,
     "metadata": {},
     "output_type": "execute_result"
    }
   ],
   "source": [
    "recall = calc_recall(ma)\n",
    "recall"
   ]
  },
  {
   "cell_type": "code",
   "execution_count": 31,
   "metadata": {},
   "outputs": [],
   "source": [
    "def calc_f1_score(matrix_error):\n",
    "    return (2 * calc_precision(matrix_error) * calc_recall(matrix_error)) / (calc_precision(matrix_error) + calc_recall(matrix_error))"
   ]
  },
  {
   "cell_type": "code",
   "execution_count": 32,
   "metadata": {},
   "outputs": [
    {
     "name": "stdout",
     "output_type": "stream",
     "text": [
      "1.0\n"
     ]
    }
   ],
   "source": [
    "r1_score = calc_f1_score(ma)\n",
    "print(r1_score)"
   ]
  },
  {
   "cell_type": "markdown",
   "metadata": {},
   "source": [
    "### Задание 6. Могла ли модель переобучиться? Почему?"
   ]
  },
  {
   "cell_type": "markdown",
   "metadata": {},
   "source": [
    "Не должна. В нашей моделе нет коэффициентов регуляризации, к-ые могли бы слишком изменить веса, нет полиномов, к-ые также могли значительно изменить веса (\"подогнаться\" под данные). С другой стороны, если данные имеют нелинейный характер взаимодействия (те же выбросы) модель вынужена будет построить модель неадекватно предсказывая по новым данным."
   ]
  },
  {
   "cell_type": "markdown",
   "metadata": {},
   "source": [
    "### Задание 7. 1. *Создайте функции eval_LR_model_l1 и eval_LR_model_l2 с применением L1 и L2 регуляризации соответственно."
   ]
  },
  {
   "cell_type": "code",
   "execution_count": 33,
   "metadata": {},
   "outputs": [],
   "source": [
    "def eval_LR_model_l1(X, y, iterations, C = 0.1, alpha=1e-4):\n",
    "    \n",
    "    np.random.seed(42)\n",
    "    w = np.random.randn(X.shape[1])\n",
    "    n = X.shape[0]\n",
    "    for i in range(1, iterations + 1):\n",
    "        z = np.dot(X, w)\n",
    "        y_pred = sigmoid(z)\n",
    "        err = calc_logloss2(y, y_pred)\n",
    "        new_w = w - alpha * (1/n * np.dot(X.T, (y_pred - y)) + 1/C * np.sign(w))\n",
    "        w = new_w\n",
    "        if i % (iterations / 10) == 0:\n",
    "            print(i, w, err)\n",
    "    return w, err"
   ]
  },
  {
   "cell_type": "code",
   "execution_count": 34,
   "metadata": {},
   "outputs": [
    {
     "name": "stdout",
     "output_type": "stream",
     "text": [
      "6000 [-0.00617369 -0.00591328 -0.00747247  0.00029739] 0.6918591027394162\n",
      "12000 [-0.00616203 -0.00576435 -0.00841025 -0.00412981] 0.6925146417516286\n",
      "18000 [-0.00614771 -0.0058041  -0.00940753 -0.00857947] 0.6931914397616195\n",
      "24000 [-0.00613452 -0.00563585  0.00967208  0.00701885] 0.6938801504893164\n",
      "30000 [-0.00615783 -0.00582367  0.00863877  0.00247381] 0.6917756850386132\n",
      "36000 [-0.00617498 -0.00572201  0.0077271  -0.0019697 ] 0.6924249013397505\n",
      "42000 [-0.00617353 -0.00570559  0.00673883 -0.00644889] 0.6931008415571951\n",
      "48000 [-0.00609954 -0.00548683  0.00578264  0.00923982] 0.6937736276131661\n",
      "54000 [-0.00614324 -0.00547113  0.0048561   0.00472276] 0.6944906256582986\n",
      "60000 [-0.00618174 -0.00580451  0.00376686  0.00012311] 0.692351258401595\n"
     ]
    }
   ],
   "source": [
    "w, err = eval_LR_model_l1(X_st, y, iterations=60000, C = 1, alpha=0.01)"
   ]
  },
  {
   "cell_type": "code",
   "execution_count": 35,
   "metadata": {},
   "outputs": [
    {
     "name": "stdout",
     "output_type": "stream",
     "text": [
      "[-0.00618174 -0.00580451  0.00376686  0.00012311] 0.692351258401595\n"
     ]
    }
   ],
   "source": [
    "print(w, err)"
   ]
  },
  {
   "cell_type": "code",
   "execution_count": 36,
   "metadata": {},
   "outputs": [],
   "source": [
    "def eval_LR_model_l2(X, y, iterations, C = 0.1, alpha=1e-4):\n",
    "    \n",
    "    np.random.seed(42)\n",
    "    w = np.random.randn(X.shape[1])\n",
    "    n = X.shape[0]\n",
    "    for i in range(1, iterations + 1):\n",
    "        z = np.dot(X, w)\n",
    "        y_pred = sigmoid(z)\n",
    "        err = calc_logloss2(y, y_pred)\n",
    "        new_w = w - alpha * (1/n * np.dot(X.T, (y_pred - y)) + 2 * С * w)\n",
    "        w = new_w\n",
    "        if i % (iterations / 10) == 0:\n",
    "            print(i, w, err)\n",
    "    return w, err"
   ]
  }
 ],
 "metadata": {
  "kernelspec": {
   "display_name": "Python 3",
   "language": "python",
   "name": "python3"
  },
  "language_info": {
   "codemirror_mode": {
    "name": "ipython",
    "version": 3
   },
   "file_extension": ".py",
   "mimetype": "text/x-python",
   "name": "python",
   "nbconvert_exporter": "python",
   "pygments_lexer": "ipython3",
   "version": "3.8.5"
  }
 },
 "nbformat": 4,
 "nbformat_minor": 4
}
