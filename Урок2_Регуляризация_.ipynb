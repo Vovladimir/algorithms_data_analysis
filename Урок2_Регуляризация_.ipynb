{
  "nbformat": 4,
  "nbformat_minor": 0,
  "metadata": {
    "colab": {
      "name": "Урок2. Регуляризация.",
      "provenance": [],
      "collapsed_sections": [],
      "include_colab_link": true
    },
    "kernelspec": {
      "display_name": "Python 3",
      "language": "python",
      "name": "python3"
    },
    "language_info": {
      "codemirror_mode": {
        "name": "ipython",
        "version": 3
      },
      "file_extension": ".py",
      "mimetype": "text/x-python",
      "name": "python",
      "nbconvert_exporter": "python",
      "pygments_lexer": "ipython3",
      "version": "3.7.3"
    },
    "toc": {
      "base_numbering": 1,
      "nav_menu": {},
      "number_sections": false,
      "sideBar": true,
      "skip_h1_title": true,
      "title_cell": "План урока",
      "title_sidebar": "План",
      "toc_cell": true,
      "toc_position": {
        "height": "calc(100% - 180px)",
        "left": "10px",
        "top": "150px",
        "width": "165px"
      },
      "toc_section_display": true,
      "toc_window_display": true
    }
  },
  "cells": [
    {
      "cell_type": "markdown",
      "metadata": {
        "id": "view-in-github",
        "colab_type": "text"
      },
      "source": [
        "<a href=\"https://colab.research.google.com/github/Vovladimir/algorithms_data_analysis/blob/lesson2/%D0%A3%D1%80%D0%BE%D0%BA2_%D0%A0%D0%B5%D0%B3%D1%83%D0%BB%D1%8F%D1%80%D0%B8%D0%B7%D0%B0%D1%86%D0%B8%D1%8F_.ipynb\" target=\"_parent\"><img src=\"https://colab.research.google.com/assets/colab-badge.svg\" alt=\"Open In Colab\"/></a>"
      ]
    },
    {
      "cell_type": "markdown",
      "metadata": {
        "id": "VBKtxtzpPTAB"
      },
      "source": [
        "# Урок 2. Масштабирование признаков. Регуляризация. Стохастический градиентный спуск."
      ]
    },
    {
      "cell_type": "code",
      "metadata": {
        "id": "_u5bV-OlT34p"
      },
      "source": [
        "import numpy as np\n",
        "import matplotlib.pyplot as plt\n",
        "plt.rcParams.update({'font.size': 14,\n",
        "                     'xtick.labelsize': 14})"
      ],
      "execution_count": 356,
      "outputs": []
    },
    {
      "cell_type": "code",
      "metadata": {
        "id": "_n6il-AZaLuA"
      },
      "source": [
        "# К признаку стажа добавим новые признаки\n",
        "X = np.array([[1, 1, 1, 1, 1, 1, 1, 1, 1, 1],\n",
        "              [1, 1, 2, 1, 3, 0, 5, 10, 1, 2],  # стаж\n",
        "              [500, 700, 750, 600, 1450,        # средняя стоимость занятия\n",
        "               800, 1500, 2000, 450, 1000],\n",
        "              [1, 1, 2, 1, 2, 1, 3, 3, 1, 2]])  # квалификация репетитора\n",
        "               \n",
        "y = [45, 55, 50, 59, 65, 35, 75, 80, 50, 60]    # средний балл ЕГЭ (целевая переменная)"
      ],
      "execution_count": 357,
      "outputs": []
    },
    {
      "cell_type": "code",
      "metadata": {
        "colab": {
          "base_uri": "https://localhost:8080/"
        },
        "id": "M57-Pzl_f_rF",
        "outputId": "a3be4cd2-a880-4e6a-b182-3d2dc3093a2a"
      },
      "source": [
        "X_st = X.copy().astype(np.float64)\n",
        "\n",
        "X_st[1] = (X[1] - X[1].mean()) / X[1].std()\n",
        "X_st[1]"
      ],
      "execution_count": 358,
      "outputs": [
        {
          "output_type": "execute_result",
          "data": {
            "text/plain": [
              "array([-0.57142857, -0.57142857, -0.21428571, -0.57142857,  0.14285714,\n",
              "       -0.92857143,  0.85714286,  2.64285714, -0.57142857, -0.21428571])"
            ]
          },
          "metadata": {
            "tags": []
          },
          "execution_count": 358
        }
      ]
    },
    {
      "cell_type": "code",
      "metadata": {
        "colab": {
          "base_uri": "https://localhost:8080/"
        },
        "id": "6Q2MQTw3PTAR",
        "outputId": "1fe31947-4241-4dbc-c3af-ba320ab1cc7f"
      },
      "source": [
        "X_st[1].mean(), X_st[1].std()"
      ],
      "execution_count": 359,
      "outputs": [
        {
          "output_type": "execute_result",
          "data": {
            "text/plain": [
              "(3.3306690738754695e-17, 1.0)"
            ]
          },
          "metadata": {
            "tags": []
          },
          "execution_count": 359
        }
      ]
    },
    {
      "cell_type": "code",
      "metadata": {
        "colab": {
          "base_uri": "https://localhost:8080/"
        },
        "id": "p5XS6t_-UdQI",
        "outputId": "9de44832-8433-475f-dc2f-5e6cb5438c6e"
      },
      "source": [
        "X_st[2] = calc_std_feat(X[2])\n",
        "X_st[3] = calc_std_feat(X[3])\n",
        "print(X_st[2])\n",
        "print(X_st[3])"
      ],
      "execution_count": 360,
      "outputs": [
        {
          "output_type": "stream",
          "text": [
            "[-0.97958969 -0.56713087 -0.46401617 -0.77336028  0.97958969 -0.36090146\n",
            "  1.08270439  2.11385144 -1.08270439  0.05155735]\n",
            "[-0.89625816 -0.89625816  0.38411064 -0.89625816  0.38411064 -0.89625816\n",
            "  1.66447944  1.66447944 -0.89625816  0.38411064]\n"
          ],
          "name": "stdout"
        }
      ]
    },
    {
      "cell_type": "code",
      "metadata": {
        "colab": {
          "base_uri": "https://localhost:8080/",
          "height": 269
        },
        "id": "-Y1tzWGCgYjA",
        "outputId": "3a0419a4-f037-4d83-d215-30c4556b42d6"
      },
      "source": [
        "plt.hist(X_st[1]);"
      ],
      "execution_count": 361,
      "outputs": [
        {
          "output_type": "display_data",
          "data": {
            "image/png": "[encoded data removed]",
            "text/plain": [
              "<Figure size 432x288 with 1 Axes>"
            ]
          },
          "metadata": {
            "tags": [],
            "needs_background": "light"
          }
        }
      ]
    },
    {
      "cell_type": "code",
      "metadata": {
        "id": "ZlJUBOyzgkJV"
      },
      "source": [
        "def calc_std_feat(x):\n",
        "    res = (x - x.mean()) / x.std()\n",
        "    return res"
      ],
      "execution_count": 362,
      "outputs": []
    },
    {
      "cell_type": "code",
      "metadata": {
        "id": "VDpN7UxYnrcS"
      },
      "source": [
        "def calc_mse(y, y_pred):\n",
        "    err = np.mean((y - y_pred)**2)\n",
        "    return err\n",
        "\n",
        "# Метод градиентного спуска\n",
        "def eval_GD(X, y, iterations, alpha=1e-4):\n",
        "    np.random.seed(42)\n",
        "    W = np.random.randn(X.shape[0])\n",
        "    n = X.shape[1]\n",
        "    for i in range(1, iterations + 1):\n",
        "        y_pred = np.dot(W, X)\n",
        "        err = calc_mse(y, y_pred)\n",
        "        W -= alpha * (1/n * 2 * np.dot((y_pred - y), X.T))\n",
        "        if i % (iterations / 10) == 0:\n",
        "            print(i, W, err)\n",
        "    return W"
      ],
      "execution_count": 363,
      "outputs": []
    },
    {
      "cell_type": "markdown",
      "metadata": {
        "id": "-unze8hYPTAc"
      },
      "source": [
        "## Домашние задания"
      ]
    },
    {
      "cell_type": "markdown",
      "metadata": {
        "id": "5QkKqtm1PTAd"
      },
      "source": [
        "1. Постройте график зависимости весов всех признаков от lambda в L2-регуляризации (на данных из урока).  \n",
        "\n",
        "2. Можно ли к одному и тому же признаку применить сразу и нормализацию, и стандартизацию?  \n",
        "\n",
        "3. *Напишите функцию наподобие eval_model_reg2, но для применения L1-регуляризации.\n",
        "\n",
        "4. *Сравните на графиках изменение весов признаков от lambda в L1-регуляризации и L2-регуляризации (на данных из урока).\n",
        "\n",
        "5. *Постройте графики зависимости весов двух признаков (стаж и стоимость занятия) от количества итераций для градиентного спуска и для стохастического градиентного спуска (на данных из урока)."
      ]
    },
    {
      "cell_type": "code",
      "metadata": {
        "id": "8wmvxD8kw3ue"
      },
      "source": [
        ""
      ],
      "execution_count": 363,
      "outputs": []
    },
    {
      "cell_type": "code",
      "metadata": {
        "id": "BOaHxPbfPTAd"
      },
      "source": [
        "# 1. Задание\n"
      ],
      "execution_count": 364,
      "outputs": []
    },
    {
      "cell_type": "code",
      "metadata": {
        "id": "AO3Q5E4cs3Nv"
      },
      "source": [
        "def eval_model_reg2(X, y, iterations, alpha=1e-4, lambda_=1e-8, plot=False):\n",
        "    np.random.seed(42)\n",
        "    W = np.random.randn(X.shape[0])\n",
        "    w_list = []\n",
        "    lambda_list = []\n",
        "    n = X.shape[1]\n",
        "    for i in range(1, iterations + 1):\n",
        "        y_pred = np.dot(W, X)\n",
        "        err = calc_mse(y, y_pred)\n",
        "        new_W = W - alpha * (1/n * 2 * np.dot((y_pred - y), X.T) + 2 * lambda_ * W) \n",
        "        w_list.append(new_W.copy())\n",
        "        lambda_list.append(2*lambda_*W)\n",
        "        W = new_W\n",
        "        # if i % (iterations / 10) == 0:\n",
        "        #     print(i, W, err)\n",
        "    w_list = np.array(w_list)\n",
        "    lambda_list = np.array(lambda_list)\n",
        "    plt.figure(figsize=(13, 6))\n",
        "    if plot == 0:\n",
        "      plt.xlabel(r'Веса')\n",
        "      plt.ylabel(r'Параметр регуляризации')      \n",
        "      # plt.plot(w_list)\n",
        "      plt.scatter(w_list[:,0], lambda_list[:,0])\n",
        "      plt.scatter(w_list[:,1], lambda_list[:,1])\n",
        "    if plot == 1:\n",
        "      plt.xlabel(r'Количество итераций')\n",
        "      plt.ylabel(r'Веса')\n",
        "      plt.plot(w_list)\n",
        "    return f'Итоговые веса = {W}'"
      ],
      "execution_count": 365,
      "outputs": []
    },
    {
      "cell_type": "code",
      "metadata": {
        "colab": {
          "base_uri": "https://localhost:8080/",
          "height": 418
        },
        "id": "PQ5LyfJjs79S",
        "outputId": "c54fcc97-e7da-4834-f819-638cdbcff925"
      },
      "source": [
        "eval_model_reg2(X_st, y, iterations=10000, alpha=1e-3, lambda_=0.001)"
      ],
      "execution_count": 366,
      "outputs": [
        {
          "output_type": "execute_result",
          "data": {
            "application/vnd.google.colaboratory.intrinsic+json": {
              "type": "string"
            },
            "text/plain": [
              "'Итоговые веса = [57.34265723  5.7524461   1.8700797   4.03498288]'"
            ]
          },
          "metadata": {
            "tags": []
          },
          "execution_count": 366
        },
        {
          "output_type": "display_data",
          "data": {
            "image/png": "[encoded data removed]",
            "text/plain": [
              "<Figure size 936x432 with 1 Axes>"
            ]
          },
          "metadata": {
            "tags": [],
            "needs_background": "light"
          }
        }
      ]
    },
    {
      "cell_type": "code",
      "metadata": {
        "id": "WF7faIT1w4aN"
      },
      "source": [
        "# 2. Задание"
      ],
      "execution_count": 367,
      "outputs": []
    },
    {
      "cell_type": "code",
      "metadata": {
        "id": "HS9dcVFaynqM"
      },
      "source": [
        "def min_max_norm(x):\n",
        "  res = (x - x.min()) / (x.max() - x.min())\n",
        "  return res\n"
      ],
      "execution_count": 368,
      "outputs": []
    },
    {
      "cell_type": "code",
      "metadata": {
        "colab": {
          "base_uri": "https://localhost:8080/"
        },
        "id": "-WhHCPevy_NX",
        "outputId": "beb235af-8029-4ea0-cbfd-15e516cc05a5"
      },
      "source": [
        "X1_norm = min_max_norm(X[1])\n",
        "X1_norm"
      ],
      "execution_count": 369,
      "outputs": [
        {
          "output_type": "execute_result",
          "data": {
            "text/plain": [
              "array([0.1, 0.1, 0.2, 0.1, 0.3, 0. , 0.5, 1. , 0.1, 0.2])"
            ]
          },
          "metadata": {
            "tags": []
          },
          "execution_count": 369
        }
      ]
    },
    {
      "cell_type": "code",
      "metadata": {
        "colab": {
          "base_uri": "https://localhost:8080/",
          "height": 320
        },
        "id": "wJwZf21j10gz",
        "outputId": "c4cb2a04-4d46-4bac-a6e0-6d19072ce9ef"
      },
      "source": [
        "plt.hist(X1_norm)"
      ],
      "execution_count": 370,
      "outputs": [
        {
          "output_type": "execute_result",
          "data": {
            "text/plain": [
              "(array([1., 4., 3., 0., 0., 1., 0., 0., 0., 1.]),\n",
              " array([0. , 0.1, 0.2, 0.3, 0.4, 0.5, 0.6, 0.7, 0.8, 0.9, 1. ]),\n",
              " <a list of 10 Patch objects>)"
            ]
          },
          "metadata": {
            "tags": []
          },
          "execution_count": 370
        },
        {
          "output_type": "display_data",
          "data": {
            "image/png": "[encoded data removed]",
            "text/plain": [
              "<Figure size 432x288 with 1 Axes>"
            ]
          },
          "metadata": {
            "tags": [],
            "needs_background": "light"
          }
        }
      ]
    },
    {
      "cell_type": "code",
      "metadata": {
        "id": "mxxeGXDszwqn"
      },
      "source": [
        "X1_std = calc_std_feat(X1_norm)"
      ],
      "execution_count": 371,
      "outputs": []
    },
    {
      "cell_type": "code",
      "metadata": {
        "colab": {
          "base_uri": "https://localhost:8080/",
          "height": 354
        },
        "id": "PAPLqZLx18z7",
        "outputId": "ab8c660f-4a14-4aa1-867d-324025853f5d"
      },
      "source": [
        "plt.hist(X1_std)"
      ],
      "execution_count": 372,
      "outputs": [
        {
          "output_type": "execute_result",
          "data": {
            "text/plain": [
              "(array([1., 4., 3., 0., 1., 0., 0., 0., 0., 1.]),\n",
              " array([-0.92857143, -0.57142857, -0.21428571,  0.14285714,  0.5       ,\n",
              "         0.85714286,  1.21428571,  1.57142857,  1.92857143,  2.28571429,\n",
              "         2.64285714]),\n",
              " <a list of 10 Patch objects>)"
            ]
          },
          "metadata": {
            "tags": []
          },
          "execution_count": 372
        },
        {
          "output_type": "display_data",
          "data": {
            "image/png": "[encoded data removed]",
            "text/plain": [
              "<Figure size 432x288 with 1 Axes>"
            ]
          },
          "metadata": {
            "tags": [],
            "needs_background": "light"
          }
        }
      ]
    },
    {
      "cell_type": "code",
      "metadata": {
        "id": "T5s2TyB-4pIs"
      },
      "source": [
        "# 3. Задание"
      ],
      "execution_count": 373,
      "outputs": []
    },
    {
      "cell_type": "code",
      "metadata": {
        "id": "tvUw0gFm4phx"
      },
      "source": [
        "def eval_model_reg1(X, y, iterations, alpha=1e-4, lambda_=1e-8, plot=False):\n",
        "    np.random.seed(42)\n",
        "    W = np.random.randn(X.shape[0])\n",
        "    w_list = []\n",
        "    lambda_list = []\n",
        "    n = X.shape[1]\n",
        "    for i in range(1, iterations + 1):\n",
        "        y_pred = np.dot(W, X)\n",
        "        err = calc_mse(y, y_pred)\n",
        "        new_W = W - alpha * (1/n * 2 * np.dot((y_pred - y), X.T) +  lambda_ * np.sign(W)) \n",
        "        w_list.append(new_W.copy())\n",
        "        W = new_W\n",
        "        lambda_list.append(lambda_*np.sign(W))\n",
        "        # if i % (iterations / 10) == 0:\n",
        "        #     print(i, W, err)\n",
        "    w_list = np.array(w_list)\n",
        "    lambda_list = np.array(lambda_list)\n",
        "    plt.figure(figsize=(13, 6))\n",
        "    if plot == 0:\n",
        "      plt.xlabel(r'Веса')\n",
        "      plt.ylabel(r'Параметр регуляризации')      \n",
        "      # plt.plot(w_list)\n",
        "      plt.scatter(w_list[:,0], lambda_list[:,0])\n",
        "      plt.scatter(w_list[:,1], lambda_list[:,1])\n",
        "    if plot == 1:\n",
        "      plt.xlabel(r'Количество итераций')\n",
        "      plt.ylabel(r'Веса')\n",
        "      plt.plot(w_list)\n",
        "    if plot == 3:\n",
        "      plt.scatter(w_list[:,0], w_list[:,1])\n",
        "    return f'Итоговые веса = {W}'"
      ],
      "execution_count": 374,
      "outputs": []
    },
    {
      "cell_type": "code",
      "metadata": {
        "colab": {
          "base_uri": "https://localhost:8080/",
          "height": 428
        },
        "id": "dURQEi0s4vdg",
        "outputId": "2db35b4b-a6de-4b48-9dfd-50e325fb5078"
      },
      "source": [
        "eval_model_reg1(X_st, y, iterations=10000, lambda_=0.00001)"
      ],
      "execution_count": 375,
      "outputs": [
        {
          "output_type": "execute_result",
          "data": {
            "application/vnd.google.colaboratory.intrinsic+json": {
              "type": "string"
            },
            "text/plain": [
              "'Итоговые веса = [49.70051363  3.66420465  3.48134702  4.46121443]'"
            ]
          },
          "metadata": {
            "tags": []
          },
          "execution_count": 375
        },
        {
          "output_type": "display_data",
          "data": {
            "image/png": "[encoded data removed]",
            "text/plain": [
              "<Figure size 936x432 with 1 Axes>"
            ]
          },
          "metadata": {
            "tags": [],
            "needs_background": "light"
          }
        }
      ]
    },
    {
      "cell_type": "markdown",
      "metadata": {
        "id": "5QWdYjUGEh8v"
      },
      "source": [
        "4. Задание"
      ]
    },
    {
      "cell_type": "code",
      "metadata": {
        "colab": {
          "base_uri": "https://localhost:8080/",
          "height": 414
        },
        "id": "JxsRIwiRDoIK",
        "outputId": "68bee272-cbbd-4bb2-9921-3e72f412fe16"
      },
      "source": [
        "eval_model_reg1(X_st, y, iterations=10000, lambda_=0.00001, plot=True)"
      ],
      "execution_count": 376,
      "outputs": [
        {
          "output_type": "execute_result",
          "data": {
            "application/vnd.google.colaboratory.intrinsic+json": {
              "type": "string"
            },
            "text/plain": [
              "'Итоговые веса = [49.70051363  3.66420465  3.48134702  4.46121443]'"
            ]
          },
          "metadata": {
            "tags": []
          },
          "execution_count": 376
        },
        {
          "output_type": "display_data",
          "data": {
            "image/png": "[encoded data removed]",
            "text/plain": [
              "<Figure size 936x432 with 1 Axes>"
            ]
          },
          "metadata": {
            "tags": [],
            "needs_background": "light"
          }
        }
      ]
    },
    {
      "cell_type": "code",
      "metadata": {
        "colab": {
          "base_uri": "https://localhost:8080/",
          "height": 418
        },
        "id": "Ov0VJYrBARjF",
        "outputId": "06b62c9e-e9d9-47c3-f8f2-7699316c578b"
      },
      "source": [
        "eval_model_reg2(X_st, y, iterations=10000, alpha=1e-3, lambda_=0.00001,plot=True)"
      ],
      "execution_count": 377,
      "outputs": [
        {
          "output_type": "execute_result",
          "data": {
            "application/vnd.google.colaboratory.intrinsic+json": {
              "type": "string"
            },
            "text/plain": [
              "'Итоговые веса = [57.39942589  5.76569745  1.85695393  4.03919918]'"
            ]
          },
          "metadata": {
            "tags": []
          },
          "execution_count": 377
        },
        {
          "output_type": "display_data",
          "data": {
            "image/png": "[encoded data removed]",
            "text/plain": [
              "<Figure size 936x432 with 1 Axes>"
            ]
          },
          "metadata": {
            "tags": [],
            "needs_background": "light"
          }
        }
      ]
    },
    {
      "cell_type": "code",
      "metadata": {
        "id": "C_g4FYcpJiie"
      },
      "source": [
        "# 5. Задание"
      ],
      "execution_count": 378,
      "outputs": []
    },
    {
      "cell_type": "code",
      "metadata": {
        "id": "bmtQpJM7QybP"
      },
      "source": [
        "# Метод стохастического градиентного спуска (mini-batch SGD)\n",
        "def eval_SGD(X, y, iterations, qty_in_batch, alpha=1e-4):\n",
        "    np.random.seed(42)\n",
        "    W = np.random.randn(X.shape[0]) # начальное приближение весов\n",
        "    n = X.shape[1] # число наблюдений\n",
        "    n_batch = n // qty_in_batch\n",
        "    w_list = []\n",
        "    if n % qty_in_batch != 0:\n",
        "        n_batch += 1\n",
        "    # print(n_batch)\n",
        "    for i in range(1, iterations + 1):\n",
        "        for b in range(n_batch):\n",
        "            start_ = qty_in_batch * b\n",
        "            end_ = qty_in_batch * (b + 1)\n",
        "            X_tmp = X[:, start_ : end_]\n",
        "            y_tmp = y[start_ : end_]\n",
        "            y_pred_tmp = np.dot(W, X_tmp)\n",
        "            err = calc_mse(y_tmp, y_pred_tmp)\n",
        "            W -= alpha * (1/n * 2 * np.dot((y_pred_tmp - y_tmp), X_tmp.T))\n",
        "            w_list.append(W.copy())\n",
        "        if i % (iterations / 10) == 0:\n",
        "            print(i, W, err)\n",
        "    w_list = np.array(w_list)\n",
        "    plt.figure(figsize=(13, 6))\n",
        "    plt.scatter(w_list[:,0], w_list[:,1])\n",
        "    return W"
      ],
      "execution_count": 379,
      "outputs": []
    },
    {
      "cell_type": "code",
      "metadata": {
        "id": "KDkgwjkvRozJ"
      },
      "source": [
        ""
      ],
      "execution_count": 379,
      "outputs": []
    },
    {
      "cell_type": "code",
      "metadata": {
        "colab": {
          "base_uri": "https://localhost:8080/",
          "height": 599
        },
        "id": "ak8hqGNmRV8L",
        "outputId": "03a24f94-635f-4501-ae3d-045bf05e8429"
      },
      "source": [
        "%%time\n",
        "\n",
        "eval_SGD(X_st, y, iterations=1000, qty_in_batch=5, alpha=1e-3) # 100.15781666892349"
      ],
      "execution_count": 380,
      "outputs": [
        {
          "output_type": "stream",
          "text": [
            "100 [10.8180538   1.29708149  1.98771474  2.85579396] 2313.447900382401\n",
            "200 [19.26728006  2.14818814  2.73911058  3.6095245 ] 1485.3622747585566\n",
            "300 [26.18395752  2.6633213   3.1529941   4.03134273] 966.0865193677895\n",
            "400 [31.84606228  2.98501903  3.37351129  4.26309259] 634.9580889303085\n",
            "500 [36.48115179  3.19511829  3.48339473  4.38617789] 421.74894986743567\n",
            "600 [40.2755092   3.34060674  3.53012056  4.44730514] 283.805256121405\n",
            "700 [43.38162939  3.44846526  3.54092595  4.47326314] 194.4484902168637\n",
            "800 [45.92434744  3.53418945  3.53143093  4.47940828] 136.6625892872769\n",
            "900 [48.00585546  3.606682    3.51058804  4.47453575] 99.45587115636224\n",
            "1000 [49.70980963  3.67106135  3.48352383  4.46367605] 75.67156859806016\n",
            "CPU times: user 128 ms, sys: 10.5 ms, total: 138 ms\n",
            "Wall time: 136 ms\n"
          ],
          "name": "stdout"
        },
        {
          "output_type": "execute_result",
          "data": {
            "text/plain": [
              "array([49.70980963,  3.67106135,  3.48352383,  4.46367605])"
            ]
          },
          "metadata": {
            "tags": []
          },
          "execution_count": 380
        },
        {
          "output_type": "display_data",
          "data": {
            "image/png": "[encoded data removed]",
            "text/plain": [
              "<Figure size 936x432 with 1 Axes>"
            ]
          },
          "metadata": {
            "tags": [],
            "needs_background": "light"
          }
        }
      ]
    },
    {
      "cell_type": "code",
      "metadata": {
        "colab": {
          "base_uri": "https://localhost:8080/",
          "height": 396
        },
        "id": "tV2fNQR9Erlh",
        "outputId": "1ba7d891-6c46-42d1-d5d6-4c79eaf8e4e4"
      },
      "source": [
        "eval_model_reg1(X_st, y, iterations=10000, lambda_=0.00001, plot=3)"
      ],
      "execution_count": 381,
      "outputs": [
        {
          "output_type": "execute_result",
          "data": {
            "application/vnd.google.colaboratory.intrinsic+json": {
              "type": "string"
            },
            "text/plain": [
              "'Итоговые веса = [49.70051363  3.66420465  3.48134702  4.46121443]'"
            ]
          },
          "metadata": {
            "tags": []
          },
          "execution_count": 381
        },
        {
          "output_type": "display_data",
          "data": {
            "image/png": "[encoded data removed]",
            "text/plain": [
              "<Figure size 936x432 with 1 Axes>"
            ]
          },
          "metadata": {
            "tags": [],
            "needs_background": "light"
          }
        }
      ]
    }
  ]
}